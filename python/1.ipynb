{
 "cells": [
  {
   "cell_type": "markdown",
   "id": "bbca8a13",
   "metadata": {},
   "source": [
    "# 표현식, 값 그리고 변수 -> 누가 바라보냐에 따라 달라질 수 있고, 평가가 중요한 관점이다!\n",
    "\n",
    "- 값(value): 가장 기본적인 데이터 조각 => 더 이상 계산되거나, 평가되지 않는(없는) 형태\n",
    "    예) 3.14, 문자열: \"안녕하세요\"\n",
    "- 표현식(Expression): 3 + 5 x > 10\n",
    "\n",
    "len() : **어떤 시퀸스의 길이**를 반환하는 내장 함수\n",
    "len(\"안녕하세요\") : \n",
    "\n",
    "변수 = 3 + 5\n",
    "greeting = \"안녕하세요\"\n",
    "\n",
    "'=' 할당연산자로\n",
    "\n",
    "\n",
    "# 문자열의 불변성\n",
    "\n",
    "-종이에 문자를 인쇄를 하면 직접 고칠 수 없다. -> 파이썬도 동일함!\n"
   ]
  },
  {
   "cell_type": "markdown",
   "id": "4b1bb876",
   "metadata": {},
   "source": []
  },
  {
   "cell_type": "markdown",
   "id": "ba0b8ed3",
   "metadata": {},
   "source": []
  }
 ],
 "metadata": {
  "kernelspec": {
   "display_name": "Python 3",
   "language": "python",
   "name": "python3"
  },
  "language_info": {
   "codemirror_mode": {
    "name": "ipython",
    "version": 3
   },
   "file_extension": ".py",
   "mimetype": "text/x-python",
   "name": "python",
   "nbconvert_exporter": "python",
   "pygments_lexer": "ipython3",
   "version": "3.11.9"
  }
 },
 "nbformat": 4,
 "nbformat_minor": 5
}
